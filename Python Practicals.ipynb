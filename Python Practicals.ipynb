{
 "cells": [
  {
   "cell_type": "code",
   "execution_count": 1,
   "metadata": {},
   "outputs": [
    {
     "name": "stdout",
     "output_type": "stream",
     "text": [
      "I am being constructed\n",
      "48\n"
     ]
    }
   ],
   "source": [
    "class Student:\n",
    "    x = 2\n",
    "    def __init__(self, enrollment_number):\n",
    "        print(\"I am being constructed\")\n",
    "        self.enrollment_number = enrollment_number\n",
    "    \n",
    "    def print_values(self, increment):\n",
    "        print(self.enrollment_number + increment)\n",
    "\n",
    "arkit = Student(46)\n",
    "arkit.print_values(2)"
   ]
  },
  {
   "cell_type": "markdown",
   "metadata": {},
   "source": [
    "# Lab Problem - 1 \n",
    "\n",
    "Create a class Bank with account object. It should open with 1000 balance.\n",
    "Create methods for credit and debit functionality and to print the current balance of the account.\n"
   ]
  },
  {
   "cell_type": "code",
   "execution_count": 14,
   "metadata": {
    "collapsed": true
   },
   "outputs": [],
   "source": [
    "class Bank:\n",
    "    \n",
    "    balance = 1000\n",
    "    \n",
    "    def __init__(self):\n",
    "        print(\"Account created !\")\n",
    "    \n",
    "    def credit(self, amount):\n",
    "        self.balance = self.balance + amount\n",
    "    \n",
    "    def debit(self, amount):\n",
    "        self.balance = self.balance - amount\n",
    "    \n",
    "    def check_balance(self):\n",
    "        print(self.balance)\n"
   ]
  },
  {
   "cell_type": "code",
   "execution_count": 15,
   "metadata": {},
   "outputs": [
    {
     "name": "stdout",
     "output_type": "stream",
     "text": [
      "Account created !\n"
     ]
    }
   ],
   "source": [
    "arkit = Bank()"
   ]
  },
  {
   "cell_type": "code",
   "execution_count": 16,
   "metadata": {},
   "outputs": [
    {
     "name": "stdout",
     "output_type": "stream",
     "text": [
      "1000\n"
     ]
    }
   ],
   "source": [
    "arkit.check_balance()"
   ]
  },
  {
   "cell_type": "code",
   "execution_count": 17,
   "metadata": {},
   "outputs": [
    {
     "name": "stdout",
     "output_type": "stream",
     "text": [
      "1250\n"
     ]
    }
   ],
   "source": [
    "arkit.credit(250)\n",
    "arkit.check_balance()"
   ]
  },
  {
   "cell_type": "code",
   "execution_count": 18,
   "metadata": {},
   "outputs": [
    {
     "name": "stdout",
     "output_type": "stream",
     "text": [
      "950\n"
     ]
    }
   ],
   "source": [
    "arkit.debit(300)\n",
    "arkit.check_balance()"
   ]
  },
  {
   "cell_type": "markdown",
   "metadata": {},
   "source": [
    "# Inheritance Implementation"
   ]
  },
  {
   "cell_type": "code",
   "execution_count": 2,
   "metadata": {
    "collapsed": true
   },
   "outputs": [],
   "source": [
    "class Account:\n",
    "    \n",
    "    balance = 1000\n",
    "    \n",
    "    def __init__(self):\n",
    "        print(\"Account created !\")\n",
    "    \n",
    "    def credit(self, amount):\n",
    "        self.balance = self.balance + amount\n",
    "    \n",
    "    def debit(self, amount):\n",
    "        self.balance = self.balance - amount\n",
    "    \n",
    "    def check_balance(self):\n",
    "        print(self.balance)"
   ]
  },
  {
   "cell_type": "code",
   "execution_count": 14,
   "metadata": {
    "collapsed": true
   },
   "outputs": [],
   "source": [
    "class SavingAccount(Account):\n",
    "    interest_rate = 4.0\n",
    "    def __init__(self, name):\n",
    "        Account.__init__(self)\n",
    "        self.name = name\n",
    "    \n",
    "    def get_account_type(self):\n",
    "        print(\"Hello\", self.name, \", you have a savings account !\")"
   ]
  },
  {
   "cell_type": "code",
   "execution_count": 15,
   "metadata": {
    "collapsed": true
   },
   "outputs": [],
   "source": [
    "class CurrentAccount(Account):\n",
    "    interest_rate = 10.0\n",
    "    def __init__(self, name):\n",
    "        Account.__init__(self)\n",
    "        self.name = name\n",
    "        \n",
    "    def get_account_type(self):\n",
    "        print(\"Hello\", self.name, \", you have a current account !\")"
   ]
  },
  {
   "cell_type": "code",
   "execution_count": 16,
   "metadata": {},
   "outputs": [
    {
     "name": "stdout",
     "output_type": "stream",
     "text": [
      "Account created !\n"
     ]
    }
   ],
   "source": [
    "customer_1 = SavingAccount(\"customer 1\")"
   ]
  },
  {
   "cell_type": "code",
   "execution_count": 17,
   "metadata": {},
   "outputs": [
    {
     "name": "stdout",
     "output_type": "stream",
     "text": [
      "Hello customer 1 , you have a savings account !\n"
     ]
    }
   ],
   "source": [
    "customer_1.get_account_type()"
   ]
  },
  {
   "cell_type": "code",
   "execution_count": 19,
   "metadata": {},
   "outputs": [
    {
     "name": "stdout",
     "output_type": "stream",
     "text": [
      "Account created !\n"
     ]
    }
   ],
   "source": [
    "customer_2 = CurrentAccount(\"customer 2\")"
   ]
  },
  {
   "cell_type": "code",
   "execution_count": 20,
   "metadata": {},
   "outputs": [
    {
     "name": "stdout",
     "output_type": "stream",
     "text": [
      "Hello customer 2 , you have a current account !\n"
     ]
    }
   ],
   "source": [
    "customer_2.get_account_type()"
   ]
  },
  {
   "cell_type": "markdown",
   "metadata": {},
   "source": [
    "# Lab Problem - 2"
   ]
  },
  {
   "cell_type": "code",
   "execution_count": 48,
   "metadata": {
    "collapsed": true
   },
   "outputs": [],
   "source": [
    "class Employees:\n",
    "    \n",
    "    def __init__(self, name, designation, salary):\n",
    "        self.name = name\n",
    "        self.designation = designation\n",
    "        if type(salary) is float or type(salary) is int:\n",
    "            self.salary = salary\n",
    "        else:\n",
    "            raise(\"Salary should be float or integer\")"
   ]
  },
  {
   "cell_type": "code",
   "execution_count": 49,
   "metadata": {
    "collapsed": true
   },
   "outputs": [],
   "source": [
    "class ITExperts:\n",
    "    \n",
    "    def __init__(self, expertise, bachelor_degree, is_master):\n",
    "        self.expertise = expertise\n",
    "        self.bachelor_degree = bachelor_degree\n",
    "        if type(is_master) is bool:\n",
    "            self.is_master = is_master\n",
    "        else:\n",
    "            raise Exception(\"Masters should be boolean\")"
   ]
  },
  {
   "cell_type": "code",
   "execution_count": 38,
   "metadata": {
    "collapsed": true
   },
   "outputs": [],
   "source": [
    "class SoftwareDeveloper(Employees, ITExperts):\n",
    "    \n",
    "    def __init__(self, name, designation, salary, \n",
    "                 expertise, bachelor_degree, is_master, \n",
    "                 project_name, tenure, development_environment):\n",
    "        Employees.__init__(self, name, designation, salary)\n",
    "        ITExperts.__init__(self, expertise, bachelor_degree, is_master)\n",
    "        self.project_name = project_name\n",
    "        if type(tenure) is int:\n",
    "            self.tenure = tenure\n",
    "        else:\n",
    "            raise Exception(\"Tenure should be an integer\")\n",
    "        self.development_environment = development_environment\n",
    "    \n",
    "    def pay(self):\n",
    "        if self.tenure > 12:\n",
    "            self.salary = self.salary + 25000\n",
    "    \n",
    "    def display(self):\n",
    "        print(\"Requested Details are as follows :-\")\n",
    "        print(\"Name :\", self.name)\n",
    "        print(\"Designation :\", self.designation)\n",
    "        print(\"Salary :\", self.salary)\n",
    "        print(\"Expertise :\", self.expertise)\n",
    "        print(\"Bachelor Degree in :\", self.bachelor_degree)\n",
    "        print(\"Has Masters :\", self.is_master)\n",
    "        print(\"Project Name :\", self.project_name)\n",
    "        print(\"Tenure :\", self.tenure)\n",
    "        print(\"Development environment :\", self.development_environment)"
   ]
  },
  {
   "cell_type": "code",
   "execution_count": 47,
   "metadata": {},
   "outputs": [
    {
     "ename": "Exception",
     "evalue": "Masters should be boolean",
     "output_type": "error",
     "traceback": [
      "\u001b[1;31m---------------------------------------------------------------------------\u001b[0m",
      "\u001b[1;31mException\u001b[0m                                 Traceback (most recent call last)",
      "\u001b[1;32m<ipython-input-47-69ceec193b54>\u001b[0m in \u001b[0;36m<module>\u001b[1;34m()\u001b[0m\n\u001b[0;32m      1\u001b[0m steve = SoftwareDeveloper(\"Steve Jobs\", \"CEO\", 150000,\n\u001b[0;32m      2\u001b[0m                                \u001b[1;34m\"App Development\"\u001b[0m\u001b[1;33m,\u001b[0m \u001b[1;34m\"Computer Science\"\u001b[0m\u001b[1;33m,\u001b[0m \u001b[1;36m1\u001b[0m\u001b[1;33m,\u001b[0m\u001b[1;33m\u001b[0m\u001b[0m\n\u001b[1;32m----> 3\u001b[1;33m                                \"Apple\", 13, \"X code\")\n\u001b[0m",
      "\u001b[1;32m<ipython-input-38-fa87370943fe>\u001b[0m in \u001b[0;36m__init__\u001b[1;34m(self, name, designation, salary, expertise, bachelor_degree, is_master, project_name, tenure, development_environment)\u001b[0m\n\u001b[0;32m      5\u001b[0m                  project_name, tenure, development_environment):\n\u001b[0;32m      6\u001b[0m         \u001b[0mEmployees\u001b[0m\u001b[1;33m.\u001b[0m\u001b[0m__init__\u001b[0m\u001b[1;33m(\u001b[0m\u001b[0mself\u001b[0m\u001b[1;33m,\u001b[0m \u001b[0mname\u001b[0m\u001b[1;33m,\u001b[0m \u001b[0mdesignation\u001b[0m\u001b[1;33m,\u001b[0m \u001b[0msalary\u001b[0m\u001b[1;33m)\u001b[0m\u001b[1;33m\u001b[0m\u001b[0m\n\u001b[1;32m----> 7\u001b[1;33m         \u001b[0mITExperts\u001b[0m\u001b[1;33m.\u001b[0m\u001b[0m__init__\u001b[0m\u001b[1;33m(\u001b[0m\u001b[0mself\u001b[0m\u001b[1;33m,\u001b[0m \u001b[0mexpertise\u001b[0m\u001b[1;33m,\u001b[0m \u001b[0mbachelor_degree\u001b[0m\u001b[1;33m,\u001b[0m \u001b[0mis_master\u001b[0m\u001b[1;33m)\u001b[0m\u001b[1;33m\u001b[0m\u001b[0m\n\u001b[0m\u001b[0;32m      8\u001b[0m         \u001b[0mself\u001b[0m\u001b[1;33m.\u001b[0m\u001b[0mproject_name\u001b[0m \u001b[1;33m=\u001b[0m \u001b[0mproject_name\u001b[0m\u001b[1;33m\u001b[0m\u001b[0m\n\u001b[0;32m      9\u001b[0m         \u001b[0mself\u001b[0m\u001b[1;33m.\u001b[0m\u001b[0mtenure\u001b[0m \u001b[1;33m=\u001b[0m \u001b[0mtenure\u001b[0m\u001b[1;33m\u001b[0m\u001b[0m\n",
      "\u001b[1;32m<ipython-input-37-03ebbec52e75>\u001b[0m in \u001b[0;36m__init__\u001b[1;34m(self, expertise, bachelor_degree, is_master)\u001b[0m\n\u001b[0;32m      7\u001b[0m             \u001b[0mself\u001b[0m\u001b[1;33m.\u001b[0m\u001b[0mis_master\u001b[0m \u001b[1;33m=\u001b[0m \u001b[0mis_master\u001b[0m\u001b[1;33m\u001b[0m\u001b[0m\n\u001b[0;32m      8\u001b[0m         \u001b[1;32melse\u001b[0m\u001b[1;33m:\u001b[0m\u001b[1;33m\u001b[0m\u001b[0m\n\u001b[1;32m----> 9\u001b[1;33m             \u001b[1;32mraise\u001b[0m \u001b[0mException\u001b[0m\u001b[1;33m(\u001b[0m\u001b[1;34m\"Masters should be boolean\"\u001b[0m\u001b[1;33m)\u001b[0m\u001b[1;33m\u001b[0m\u001b[0m\n\u001b[0m",
      "\u001b[1;31mException\u001b[0m: Masters should be boolean"
     ]
    }
   ],
   "source": [
    "steve = SoftwareDeveloper(\"Steve Jobs\", \"CEO\", 150000,\n",
    "                               \"App Development\", \"Computer Science\", False,\n",
    "                               \"Apple\", 13, \"X code\")"
   ]
  },
  {
   "cell_type": "code",
   "execution_count": 44,
   "metadata": {},
   "outputs": [],
   "source": [
    "steve.pay()"
   ]
  },
  {
   "cell_type": "code",
   "execution_count": 45,
   "metadata": {},
   "outputs": [
    {
     "name": "stdout",
     "output_type": "stream",
     "text": [
      "Requested Details are as follows :-\n",
      "Name : Steve Jobs\n",
      "Designation : CEO\n",
      "Salary : 175000\n",
      "Expertise : App Development\n",
      "Bachelor Degree in : Computer Science\n",
      "Has Masters : False\n",
      "Project Name : Apple\n",
      "Tenure : 13\n",
      "Development environment : X code\n"
     ]
    }
   ],
   "source": [
    "steve.display()"
   ]
  },
  {
   "cell_type": "code",
   "execution_count": 46,
   "metadata": {},
   "outputs": [
    {
     "data": {
      "text/plain": [
       "__main__.SoftwareDeveloper"
      ]
     },
     "execution_count": 46,
     "metadata": {},
     "output_type": "execute_result"
    }
   ],
   "source": [
    "type(steve)"
   ]
  },
  {
   "cell_type": "code",
   "execution_count": null,
   "metadata": {
    "collapsed": true
   },
   "outputs": [],
   "source": []
  }
 ],
 "metadata": {
  "kernelspec": {
   "display_name": "Python 3",
   "language": "python",
   "name": "python3"
  },
  "language_info": {
   "codemirror_mode": {
    "name": "ipython",
    "version": 3
   },
   "file_extension": ".py",
   "mimetype": "text/x-python",
   "name": "python",
   "nbconvert_exporter": "python",
   "pygments_lexer": "ipython3",
   "version": "3.6.3"
  }
 },
 "nbformat": 4,
 "nbformat_minor": 2
}
