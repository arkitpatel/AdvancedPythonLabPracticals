{
 "cells": [
  {
   "cell_type": "markdown",
   "metadata": {},
   "source": [
    "# Practical 1"
   ]
  },
  {
   "cell_type": "code",
   "execution_count": 1,
   "metadata": {},
   "outputs": [
    {
     "name": "stdout",
     "output_type": "stream",
     "text": [
      "I am being constructed\n",
      "48\n"
     ]
    }
   ],
   "source": [
    "class Student:\n",
    "    x = 2\n",
    "    def __init__(self, enrollment_number):\n",
    "        print(\"I am being constructed\")\n",
    "        self.enrollment_number = enrollment_number\n",
    "    \n",
    "    def print_values(self, increment):\n",
    "        print(self.enrollment_number + increment)\n",
    "\n",
    "arkit = Student(46)\n",
    "arkit.print_values(2)"
   ]
  },
  {
   "cell_type": "markdown",
   "metadata": {},
   "source": [
    "# Question 1\n",
    "\n",
    "Create a class Bank with account object. It should open with 1000 balance.\n",
    "Create methods for credit and debit functionality and to print the current balance of the account.\n"
   ]
  },
  {
   "cell_type": "code",
   "execution_count": 14,
   "metadata": {
    "collapsed": true
   },
   "outputs": [],
   "source": [
    "class Bank:\n",
    "    \n",
    "    balance = 1000\n",
    "    \n",
    "    def __init__(self):\n",
    "        print(\"Account created !\")\n",
    "    \n",
    "    def credit(self, amount):\n",
    "        self.balance = self.balance + amount\n",
    "    \n",
    "    def debit(self, amount):\n",
    "        self.balance = self.balance - amount\n",
    "    \n",
    "    def check_balance(self):\n",
    "        print(self.balance)\n"
   ]
  },
  {
   "cell_type": "code",
   "execution_count": 15,
   "metadata": {},
   "outputs": [
    {
     "name": "stdout",
     "output_type": "stream",
     "text": [
      "Account created !\n"
     ]
    }
   ],
   "source": [
    "arkit = Bank()"
   ]
  },
  {
   "cell_type": "code",
   "execution_count": 16,
   "metadata": {},
   "outputs": [
    {
     "name": "stdout",
     "output_type": "stream",
     "text": [
      "1000\n"
     ]
    }
   ],
   "source": [
    "arkit.check_balance()"
   ]
  },
  {
   "cell_type": "code",
   "execution_count": 17,
   "metadata": {},
   "outputs": [
    {
     "name": "stdout",
     "output_type": "stream",
     "text": [
      "1250\n"
     ]
    }
   ],
   "source": [
    "arkit.credit(250)\n",
    "arkit.check_balance()"
   ]
  },
  {
   "cell_type": "code",
   "execution_count": 18,
   "metadata": {},
   "outputs": [
    {
     "name": "stdout",
     "output_type": "stream",
     "text": [
      "950\n"
     ]
    }
   ],
   "source": [
    "arkit.debit(300)\n",
    "arkit.check_balance()"
   ]
  },
  {
   "cell_type": "code",
   "execution_count": null,
   "metadata": {
    "collapsed": true
   },
   "outputs": [],
   "source": []
  }
 ],
 "metadata": {
  "kernelspec": {
   "display_name": "Python 3",
   "language": "python",
   "name": "python3"
  },
  "language_info": {
   "codemirror_mode": {
    "name": "ipython",
    "version": 3
   },
   "file_extension": ".py",
   "mimetype": "text/x-python",
   "name": "python",
   "nbconvert_exporter": "python",
   "pygments_lexer": "ipython3",
   "version": "3.6.3"
  }
 },
 "nbformat": 4,
 "nbformat_minor": 2
}
