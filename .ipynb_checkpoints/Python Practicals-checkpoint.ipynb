{
 "cells": [
  {
   "cell_type": "code",
   "execution_count": null,
   "metadata": {
    "collapsed": true
   },
   "outputs": [],
   "source": [
    "# class Student:\n",
    "    x = 2\n",
    "    def __init__(self, enrollment_number):\n",
    "        print(\"I am being constructed\")\n",
    "        self.enrollment_number = enrollment_number\n",
    "    \n",
    "    def print_values(self, increment):\n",
    "        print(self.enrollment_number + increment)\n",
    "\n",
    "arkit = Student(46)\n",
    "arkit.print_values(2)"
   ]
  },
  {
   "cell_type": "markdown",
   "metadata": {},
   "source": [
    "# Lab Problem - 1 \n",
    "\n",
    "Create a class Bank with account object. It should open with 1000 balance.\n",
    "Create methods for credit and debit functionality and to print the current balance of the account.\n"
   ]
  },
  {
   "cell_type": "code",
   "execution_count": 14,
   "metadata": {
    "collapsed": true
   },
   "outputs": [],
   "source": [
    "class Bank:\n",
    "    \n",
    "    balance = 1000\n",
    "    \n",
    "    def __init__(self):\n",
    "        print(\"Account created !\")\n",
    "    \n",
    "    def credit(self, amount):\n",
    "        self.balance = self.balance + amount\n",
    "    \n",
    "    def debit(self, amount):\n",
    "        self.balance = self.balance - amount\n",
    "    \n",
    "    def check_balance(self):\n",
    "        print(self.balance)\n"
   ]
  },
  {
   "cell_type": "code",
   "execution_count": 15,
   "metadata": {},
   "outputs": [
    {
     "name": "stdout",
     "output_type": "stream",
     "text": [
      "Account created !\n"
     ]
    }
   ],
   "source": [
    "arkit = Bank()"
   ]
  },
  {
   "cell_type": "code",
   "execution_count": 16,
   "metadata": {},
   "outputs": [
    {
     "name": "stdout",
     "output_type": "stream",
     "text": [
      "1000\n"
     ]
    }
   ],
   "source": [
    "arkit.check_balance()"
   ]
  },
  {
   "cell_type": "code",
   "execution_count": 17,
   "metadata": {},
   "outputs": [
    {
     "name": "stdout",
     "output_type": "stream",
     "text": [
      "1250\n"
     ]
    }
   ],
   "source": [
    "arkit.credit(250)\n",
    "arkit.check_balance()"
   ]
  },
  {
   "cell_type": "code",
   "execution_count": 18,
   "metadata": {},
   "outputs": [
    {
     "name": "stdout",
     "output_type": "stream",
     "text": [
      "950\n"
     ]
    }
   ],
   "source": [
    "arkit.debit(300)\n",
    "arkit.check_balance()"
   ]
  },
  {
   "cell_type": "markdown",
   "metadata": {},
   "source": [
    "# Inheritance Implementation"
   ]
  },
  {
   "cell_type": "code",
   "execution_count": 2,
   "metadata": {
    "collapsed": true
   },
   "outputs": [],
   "source": [
    "class Account:\n",
    "    \n",
    "    balance = 1000\n",
    "    \n",
    "    def __init__(self):\n",
    "        print(\"Account created !\")\n",
    "    \n",
    "    def credit(self, amount):\n",
    "        self.balance = self.balance + amount\n",
    "    \n",
    "    def debit(self, amount):\n",
    "        self.balance = self.balance - amount\n",
    "    \n",
    "    def check_balance(self):\n",
    "        print(self.balance)"
   ]
  },
  {
   "cell_type": "code",
   "execution_count": 14,
   "metadata": {
    "collapsed": true
   },
   "outputs": [],
   "source": [
    "class SavingAccount(Account):\n",
    "    interest_rate = 4.0\n",
    "    def __init__(self, name):\n",
    "        Account.__init__(self)\n",
    "        self.name = name\n",
    "    \n",
    "    def get_account_type(self):\n",
    "        print(\"Hello\", self.name, \", you have a savings account !\")"
   ]
  },
  {
   "cell_type": "code",
   "execution_count": 15,
   "metadata": {
    "collapsed": true
   },
   "outputs": [],
   "source": [
    "class CurrentAccount(Account):\n",
    "    interest_rate = 10.0\n",
    "    def __init__(self, name):\n",
    "        Account.__init__(self)\n",
    "        self.name = name\n",
    "        \n",
    "    def get_account_type(self):\n",
    "        print(\"Hello\", self.name, \", you have a current account !\")"
   ]
  },
  {
   "cell_type": "code",
   "execution_count": 16,
   "metadata": {},
   "outputs": [
    {
     "name": "stdout",
     "output_type": "stream",
     "text": [
      "Account created !\n"
     ]
    }
   ],
   "source": [
    "customer_1 = SavingAccount(\"customer 1\")"
   ]
  },
  {
   "cell_type": "code",
   "execution_count": 17,
   "metadata": {},
   "outputs": [
    {
     "name": "stdout",
     "output_type": "stream",
     "text": [
      "Hello customer 1 , you have a savings account !\n"
     ]
    }
   ],
   "source": [
    "customer_1.get_account_type()"
   ]
  },
  {
   "cell_type": "code",
   "execution_count": 19,
   "metadata": {},
   "outputs": [
    {
     "name": "stdout",
     "output_type": "stream",
     "text": [
      "Account created !\n"
     ]
    }
   ],
   "source": [
    "customer_2 = CurrentAccount(\"customer 2\")"
   ]
  },
  {
   "cell_type": "code",
   "execution_count": 20,
   "metadata": {},
   "outputs": [
    {
     "name": "stdout",
     "output_type": "stream",
     "text": [
      "Hello customer 2 , you have a current account !\n"
     ]
    }
   ],
   "source": [
    "customer_2.get_account_type()"
   ]
  },
  {
   "cell_type": "markdown",
   "metadata": {},
   "source": [
    "# Lab Problem - 2"
   ]
  },
  {
   "cell_type": "code",
   "execution_count": 50,
   "metadata": {
    "collapsed": true
   },
   "outputs": [],
   "source": [
    "class Employees:\n",
    "    \n",
    "    def __init__(self, name, designation, salary):\n",
    "        self.name = name\n",
    "        self.designation = designation\n",
    "        if type(salary) is float or type(salary) is int:\n",
    "            self.salary = salary\n",
    "        else:\n",
    "            raise(\"Salary should be float or integer\")"
   ]
  },
  {
   "cell_type": "code",
   "execution_count": 51,
   "metadata": {
    "collapsed": true
   },
   "outputs": [],
   "source": [
    "class ITExperts:\n",
    "    \n",
    "    def __init__(self, expertise, bachelor_degree, is_master):\n",
    "        self.expertise = expertise\n",
    "        self.bachelor_degree = bachelor_degree\n",
    "        if type(is_master) is bool:\n",
    "            self.is_master = is_master\n",
    "        else:\n",
    "            raise Exception(\"Masters should be boolean\")"
   ]
  },
  {
   "cell_type": "code",
   "execution_count": 52,
   "metadata": {
    "collapsed": true
   },
   "outputs": [],
   "source": [
    "class SoftwareDeveloper(Employees, ITExperts):\n",
    "    \n",
    "    def __init__(self, name, designation, salary, \n",
    "                 expertise, bachelor_degree, is_master, \n",
    "                 project_name, tenure, development_environment):\n",
    "        Employees.__init__(self, name, designation, salary)\n",
    "        ITExperts.__init__(self, expertise, bachelor_degree, is_master)\n",
    "        self.project_name = project_name\n",
    "        if type(tenure) is int:\n",
    "            self.tenure = tenure\n",
    "        else:\n",
    "            raise Exception(\"Tenure should be an integer\")\n",
    "        self.development_environment = development_environment\n",
    "    \n",
    "    def pay(self):\n",
    "        if self.tenure > 12:\n",
    "            self.salary = self.salary + 25000\n",
    "    \n",
    "    def display(self):\n",
    "        print(\"Requested Details are as follows :-\")\n",
    "        print(\"Name :\", self.name)\n",
    "        print(\"Designation :\", self.designation)\n",
    "        print(\"Salary :\", self.salary)\n",
    "        print(\"Expertise :\", self.expertise)\n",
    "        print(\"Bachelor Degree in :\", self.bachelor_degree)\n",
    "        print(\"Has Masters :\", self.is_master)\n",
    "        print(\"Project Name :\", self.project_name)\n",
    "        print(\"Tenure :\", self.tenure)\n",
    "        print(\"Development environment :\", self.development_environment)"
   ]
  },
  {
   "cell_type": "code",
   "execution_count": 53,
   "metadata": {
    "collapsed": true
   },
   "outputs": [],
   "source": [
    "steve = SoftwareDeveloper(\"Steve Jobs\", \"CEO\", 150000,\n",
    "                               \"App Development\", \"Computer Science\", False,\n",
    "                               \"Apple\", 13, \"X code\")"
   ]
  },
  {
   "cell_type": "code",
   "execution_count": 54,
   "metadata": {
    "collapsed": true
   },
   "outputs": [],
   "source": [
    "steve.pay()"
   ]
  },
  {
   "cell_type": "code",
   "execution_count": 55,
   "metadata": {},
   "outputs": [
    {
     "name": "stdout",
     "output_type": "stream",
     "text": [
      "Requested Details are as follows :-\n",
      "Name : Steve Jobs\n",
      "Designation : CEO\n",
      "Salary : 175000\n",
      "Expertise : App Development\n",
      "Bachelor Degree in : Computer Science\n",
      "Has Masters : False\n",
      "Project Name : Apple\n",
      "Tenure : 13\n",
      "Development environment : X code\n"
     ]
    }
   ],
   "source": [
    "steve.display()"
   ]
  },
  {
   "cell_type": "markdown",
   "metadata": {
    "collapsed": true
   },
   "source": [
    "# Method Overriding - Lab 3\n",
    "\n",
    "create class vehicle with paramaters number of tyres and fuel engine type. Define methods set_body_colour , get_body_colour and vehicle_info. In class vehicle it should print number of tyres and next class should be class truck which inhierts from class vehicle. Truck should also accept brand as method. vehicle_info should print the brand."
   ]
  },
  {
   "cell_type": "code",
   "execution_count": 8,
   "metadata": {
    "collapsed": true
   },
   "outputs": [],
   "source": [
    "class Vehicle:\n",
    "    \n",
    "    def __init__(self, tyres, fuel):\n",
    "        self.tyres = tyres\n",
    "        self.fuel = fuel\n",
    "        self.body_colour = None\n",
    "    \n",
    "    def set_body_colour(self, colour):\n",
    "        self.body_colour = colour\n",
    "    \n",
    "    def get_body_colour(self):\n",
    "        return self.body_colour\n",
    "    \n",
    "    def vehicle_info(self):\n",
    "        print(\"Number of tyres :\", self.tyres)"
   ]
  },
  {
   "cell_type": "code",
   "execution_count": 9,
   "metadata": {
    "collapsed": true
   },
   "outputs": [],
   "source": [
    "class Truck(Vehicle):\n",
    "    \n",
    "    def __init__(self, tyres, fuel, brand):\n",
    "        Vehicle.__init__(self, tyres, fuel)\n",
    "        self.brand = brand\n",
    "    \n",
    "    def vehicle_info(self):\n",
    "        print(\"Brand name is :\", self.brand)"
   ]
  },
  {
   "cell_type": "code",
   "execution_count": 10,
   "metadata": {},
   "outputs": [
    {
     "name": "stdout",
     "output_type": "stream",
     "text": [
      "Number of tyres : 4\n"
     ]
    }
   ],
   "source": [
    "car = Vehicle(4, 'petrol')\n",
    "car.vehicle_info()"
   ]
  },
  {
   "cell_type": "code",
   "execution_count": 11,
   "metadata": {},
   "outputs": [
    {
     "name": "stdout",
     "output_type": "stream",
     "text": [
      "Brand name is : Tata\n"
     ]
    }
   ],
   "source": [
    "truck = Truck(6, 'diesel', 'Tata')\n",
    "truck.vehicle_info()"
   ]
  },
  {
   "cell_type": "markdown",
   "metadata": {},
   "source": [
    "# Method Overloading - Lab 3"
   ]
  },
  {
   "cell_type": "code",
   "execution_count": 12,
   "metadata": {
    "collapsed": true
   },
   "outputs": [],
   "source": [
    "class Vector:\n",
    "    \n",
    "    def __init__(self, x=0, y=0):\n",
    "        self.x_value = x\n",
    "        self.y_value = y\n",
    "    \n",
    "    def __str__(self):\n",
    "        print(\"\", self.x_value, \", \", self.y_value)\n",
    "    "
   ]
  },
  {
   "cell_type": "code",
   "execution_count": 14,
   "metadata": {},
   "outputs": [
    {
     "ename": "TypeError",
     "evalue": "unsupported operand type(s) for +: 'Vector' and 'Vector'",
     "output_type": "error",
     "traceback": [
      "\u001b[1;31m---------------------------------------------------------------------------\u001b[0m",
      "\u001b[1;31mTypeError\u001b[0m                                 Traceback (most recent call last)",
      "\u001b[1;32m<ipython-input-14-8514a9f9f53e>\u001b[0m in \u001b[0;36m<module>\u001b[1;34m()\u001b[0m\n\u001b[0;32m      1\u001b[0m \u001b[0mvector1\u001b[0m \u001b[1;33m=\u001b[0m \u001b[0mVector\u001b[0m\u001b[1;33m(\u001b[0m\u001b[1;36m2\u001b[0m\u001b[1;33m,\u001b[0m \u001b[1;36m3\u001b[0m\u001b[1;33m)\u001b[0m\u001b[1;33m\u001b[0m\u001b[0m\n\u001b[0;32m      2\u001b[0m \u001b[0mvector2\u001b[0m \u001b[1;33m=\u001b[0m \u001b[0mVector\u001b[0m\u001b[1;33m(\u001b[0m\u001b[1;36m5\u001b[0m\u001b[1;33m,\u001b[0m \u001b[1;36m4\u001b[0m\u001b[1;33m)\u001b[0m\u001b[1;33m\u001b[0m\u001b[0m\n\u001b[1;32m----> 3\u001b[1;33m \u001b[0mprint\u001b[0m\u001b[1;33m(\u001b[0m\u001b[0mvector1\u001b[0m \u001b[1;33m+\u001b[0m \u001b[0mvector2\u001b[0m\u001b[1;33m)\u001b[0m\u001b[1;33m\u001b[0m\u001b[0m\n\u001b[0m",
      "\u001b[1;31mTypeError\u001b[0m: unsupported operand type(s) for +: 'Vector' and 'Vector'"
     ]
    }
   ],
   "source": [
    "vector1 = Vector(2, 3)\n",
    "vector2 = Vector(5, 4)\n",
    "print(vector1 + vector2)"
   ]
  },
  {
   "cell_type": "code",
   "execution_count": 22,
   "metadata": {},
   "outputs": [],
   "source": [
    "class Vector:\n",
    "    \n",
    "    def __init__(self, x=0, y=0):\n",
    "        self.x_value = x\n",
    "        self.y_value = y\n",
    "    \n",
    "    def __str__(self):\n",
    "        \n",
    "        return \"\"+ str(self.x_value)+ \", \"+ str(self.y_value)\n",
    "    \n",
    "    def __add__(self, operand2):\n",
    "        self.x_value = self.x_value + operand2.x_value\n",
    "        self.y_value = self.y_value + operand2.y_value\n",
    "        return Vector(self.x_value, self.y_value)"
   ]
  },
  {
   "cell_type": "code",
   "execution_count": 23,
   "metadata": {},
   "outputs": [
    {
     "name": "stdout",
     "output_type": "stream",
     "text": [
      "7, 7\n"
     ]
    }
   ],
   "source": [
    "vector1 = Vector(2, 3)\n",
    "vector2 = Vector(5, 4)\n",
    "print(vector1 + vector2)"
   ]
  },
  {
   "cell_type": "markdown",
   "metadata": {},
   "source": [
    "Create class circle which should be created with inital value of radius. It has method area and overload opertor multiplication which will multiply radius and return circle object."
   ]
  },
  {
   "cell_type": "code",
   "execution_count": 28,
   "metadata": {
    "collapsed": true
   },
   "outputs": [],
   "source": [
    "class Circle:\n",
    "    \n",
    "    def __init__(self, radius):\n",
    "        self.radius = radius\n",
    "    \n",
    "    def area(self):\n",
    "        return 3.14 * self.radius * self.radius\n",
    "    \n",
    "    def __mul__(self, operand2):\n",
    "        radius = self.radius * operand2.radius\n",
    "        return Circle(radius)"
   ]
  },
  {
   "cell_type": "code",
   "execution_count": 30,
   "metadata": {},
   "outputs": [
    {
     "name": "stdout",
     "output_type": "stream",
     "text": [
      "Area of circle : 7850.0\n"
     ]
    }
   ],
   "source": [
    "circle1 = Circle(5)\n",
    "circle2 = Circle(10)\n",
    "circle3 = circle1 * circle2\n",
    "print(\"Area of circle :\", circle3.area())"
   ]
  },
  {
   "cell_type": "markdown",
   "metadata": {},
   "source": [
    "# Encapsulation - Lab 3"
   ]
  },
  {
   "cell_type": "code",
   "execution_count": 44,
   "metadata": {
    "collapsed": true
   },
   "outputs": [],
   "source": [
    "class Vector:\n",
    "    '''Creates vector object'''\n",
    "    __x = 0\n",
    "    def __init__(self, x=0, y=0):\n",
    "        self.x_value = x\n",
    "        self.y_value = y\n",
    "    \n",
    "    def __str__(self):\n",
    "        \n",
    "        return \"\"+ str(self.x_value)+ \", \"+ str(self.y_value)\n",
    "    \n",
    "    def __add__(self, operand2):\n",
    "        self.x_value = self.x_value + operand2.x_value\n",
    "        self.y_value = self.y_value + operand2.y_value\n",
    "        return Vector(self.x_value, self.y_value)"
   ]
  },
  {
   "cell_type": "code",
   "execution_count": 45,
   "metadata": {},
   "outputs": [
    {
     "ename": "AttributeError",
     "evalue": "'Vector' object has no attribute '__x'",
     "output_type": "error",
     "traceback": [
      "\u001b[1;31m---------------------------------------------------------------------------\u001b[0m",
      "\u001b[1;31mAttributeError\u001b[0m                            Traceback (most recent call last)",
      "\u001b[1;32m<ipython-input-45-f25de6de591a>\u001b[0m in \u001b[0;36m<module>\u001b[1;34m()\u001b[0m\n\u001b[0;32m      1\u001b[0m \u001b[0mvector1\u001b[0m \u001b[1;33m=\u001b[0m \u001b[0mVector\u001b[0m\u001b[1;33m(\u001b[0m\u001b[1;36m2\u001b[0m\u001b[1;33m,\u001b[0m \u001b[1;36m3\u001b[0m\u001b[1;33m)\u001b[0m\u001b[1;33m\u001b[0m\u001b[0m\n\u001b[1;32m----> 2\u001b[1;33m \u001b[0mvector1\u001b[0m\u001b[1;33m.\u001b[0m\u001b[0m__x\u001b[0m\u001b[1;33m\u001b[0m\u001b[0m\n\u001b[0m",
      "\u001b[1;31mAttributeError\u001b[0m: 'Vector' object has no attribute '__x'"
     ]
    }
   ],
   "source": [
    "vector1 = Vector(2, 3)\n",
    "vector1.__x"
   ]
  },
  {
   "cell_type": "code",
   "execution_count": 46,
   "metadata": {},
   "outputs": [
    {
     "name": "stdout",
     "output_type": "stream",
     "text": [
      "0\n"
     ]
    }
   ],
   "source": [
    "print(vector1._Vector__x)"
   ]
  },
  {
   "cell_type": "code",
   "execution_count": 47,
   "metadata": {},
   "outputs": [
    {
     "name": "stdout",
     "output_type": "stream",
     "text": [
      "Creates vector object\n"
     ]
    }
   ],
   "source": [
    "print(Vector.__doc__)"
   ]
  },
  {
   "cell_type": "code",
   "execution_count": 49,
   "metadata": {},
   "outputs": [
    {
     "name": "stdout",
     "output_type": "stream",
     "text": [
      "{'__module__': '__main__', '__doc__': 'Creates vector object', '_Vector__x': 0, '__init__': <function Vector.__init__ at 0x0000000007870400>, '__str__': <function Vector.__str__ at 0x0000000007B9D400>, '__add__': <function Vector.__add__ at 0x0000000007B9D378>, '__dict__': <attribute '__dict__' of 'Vector' objects>, '__weakref__': <attribute '__weakref__' of 'Vector' objects>}\n"
     ]
    }
   ],
   "source": [
    "print(Vector.__dict__)"
   ]
  },
  {
   "cell_type": "code",
   "execution_count": 50,
   "metadata": {},
   "outputs": [
    {
     "name": "stdout",
     "output_type": "stream",
     "text": [
      "__main__\n"
     ]
    }
   ],
   "source": [
    "print(Vector.__module__)"
   ]
  },
  {
   "cell_type": "code",
   "execution_count": 51,
   "metadata": {},
   "outputs": [
    {
     "name": "stdout",
     "output_type": "stream",
     "text": [
      "Vector\n"
     ]
    }
   ],
   "source": [
    "print(Vector.__name__)"
   ]
  },
  {
   "cell_type": "code",
   "execution_count": 52,
   "metadata": {
    "collapsed": true
   },
   "outputs": [],
   "source": [
    "Vector.name = \"Arkit Patel\""
   ]
  },
  {
   "cell_type": "code",
   "execution_count": 53,
   "metadata": {},
   "outputs": [
    {
     "name": "stdout",
     "output_type": "stream",
     "text": [
      "Arkit Patel\n"
     ]
    }
   ],
   "source": [
    "print(Vector.name)"
   ]
  },
  {
   "cell_type": "code",
   "execution_count": 54,
   "metadata": {
    "collapsed": true
   },
   "outputs": [],
   "source": [
    "vector1.roll = 46"
   ]
  },
  {
   "cell_type": "code",
   "execution_count": 55,
   "metadata": {},
   "outputs": [
    {
     "name": "stdout",
     "output_type": "stream",
     "text": [
      "46\n"
     ]
    }
   ],
   "source": [
    "print(vector1.roll)"
   ]
  },
  {
   "cell_type": "code",
   "execution_count": 56,
   "metadata": {},
   "outputs": [
    {
     "ename": "AttributeError",
     "evalue": "'Vector' object has no attribute 'hasattr'",
     "output_type": "error",
     "traceback": [
      "\u001b[1;31m---------------------------------------------------------------------------\u001b[0m",
      "\u001b[1;31mAttributeError\u001b[0m                            Traceback (most recent call last)",
      "\u001b[1;32m<ipython-input-56-e814b4f95a01>\u001b[0m in \u001b[0;36m<module>\u001b[1;34m()\u001b[0m\n\u001b[1;32m----> 1\u001b[1;33m \u001b[0mvector1\u001b[0m\u001b[1;33m.\u001b[0m\u001b[0mhasattr\u001b[0m\u001b[1;33m(\u001b[0m\u001b[1;34m\"roll\"\u001b[0m\u001b[1;33m)\u001b[0m\u001b[1;33m\u001b[0m\u001b[0m\n\u001b[0m",
      "\u001b[1;31mAttributeError\u001b[0m: 'Vector' object has no attribute 'hasattr'"
     ]
    }
   ],
   "source": [
    "vector1.hasattr(\"roll\")"
   ]
  },
  {
   "cell_type": "code",
   "execution_count": 57,
   "metadata": {},
   "outputs": [
    {
     "ename": "TypeError",
     "evalue": "hasattr(): attribute name must be string",
     "output_type": "error",
     "traceback": [
      "\u001b[1;31m---------------------------------------------------------------------------\u001b[0m",
      "\u001b[1;31mTypeError\u001b[0m                                 Traceback (most recent call last)",
      "\u001b[1;32m<ipython-input-57-11df80f693f9>\u001b[0m in \u001b[0;36m<module>\u001b[1;34m()\u001b[0m\n\u001b[1;32m----> 1\u001b[1;33m \u001b[0mhasattr\u001b[0m\u001b[1;33m(\u001b[0m\u001b[1;34m\"roll\"\u001b[0m\u001b[1;33m,\u001b[0m \u001b[0mvector1\u001b[0m\u001b[1;33m)\u001b[0m\u001b[1;33m\u001b[0m\u001b[0m\n\u001b[0m",
      "\u001b[1;31mTypeError\u001b[0m: hasattr(): attribute name must be string"
     ]
    }
   ],
   "source": [
    "hasattr(\"roll\", vector1)"
   ]
  },
  {
   "cell_type": "code",
   "execution_count": 58,
   "metadata": {},
   "outputs": [
    {
     "data": {
      "text/plain": [
       "True"
      ]
     },
     "execution_count": 58,
     "metadata": {},
     "output_type": "execute_result"
    }
   ],
   "source": [
    "hasattr(vector1, \"roll\")"
   ]
  },
  {
   "cell_type": "code",
   "execution_count": 59,
   "metadata": {},
   "outputs": [
    {
     "data": {
      "text/plain": [
       "46"
      ]
     },
     "execution_count": 59,
     "metadata": {},
     "output_type": "execute_result"
    }
   ],
   "source": [
    "getattr(vector1, \"roll\")"
   ]
  },
  {
   "cell_type": "code",
   "execution_count": 60,
   "metadata": {
    "collapsed": true
   },
   "outputs": [],
   "source": [
    "setattr(vector1, \"name\", \"Arkit\")"
   ]
  },
  {
   "cell_type": "code",
   "execution_count": 61,
   "metadata": {
    "collapsed": true
   },
   "outputs": [],
   "source": [
    "delattr(vector1, \"name\")"
   ]
  },
  {
   "cell_type": "code",
   "execution_count": null,
   "metadata": {
    "collapsed": true
   },
   "outputs": [],
   "source": []
  }
 ],
 "metadata": {
  "kernelspec": {
   "display_name": "Python 3",
   "language": "python",
   "name": "python3"
  },
  "language_info": {
   "codemirror_mode": {
    "name": "ipython",
    "version": 3
   },
   "file_extension": ".py",
   "mimetype": "text/x-python",
   "name": "python",
   "nbconvert_exporter": "python",
   "pygments_lexer": "ipython3",
   "version": "3.6.3"
  }
 },
 "nbformat": 4,
 "nbformat_minor": 2
}
